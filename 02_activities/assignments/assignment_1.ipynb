{
 "cells": [
  {
   "cell_type": "code",
   "execution_count": 5,
   "metadata": {},
   "outputs": [
    {
     "name": "stdout",
     "output_type": "stream",
     "text": [
      "2\n"
     ]
    }
   ],
   "source": [
    "import hashlib\n",
    "\n",
    "def hash_to_range(input_string: str) -> int:\n",
    "     hash_object = hashlib.sha256(input_string.encode())\n",
    "     hash_int = int(hash_object.hexdigest(), 16)\n",
    "     return (hash_int % 3) + 1\n",
    "input_string = \"Darling\"\n",
    "result = hash_to_range(input_string)\n",
    "print(result)\n"
   ]
  },
  {
   "cell_type": "markdown",
   "metadata": {},
   "source": [
    "## Question One: First Duplicate in List\n",
    "**Description**  \n",
    "Given a list of integers, return the **first value that appears more than once**. If there are multiple duplicates, return the one that appears **first** in the list. If no duplicate exists, return `-1`.\n",
    "\n",
    "**Examples**\n",
    "```python\n",
    "Input: nums = [3, 1, 4, 2, 5, 1, 6]\n",
    "Output: 1\n",
    "```\n",
    "```python\n",
    "Input: nums = [7, 8, 9, 10]\n",
    "Output: -1\n",
    "```\n",
    "```python\n",
    "Input: nums = [4, 5, 6, 4, 6]\n",
    "Output: 4\n",
    "```\n",
    "\n",
    "**Question 1 Starter Code**"
   ]
  },
  {
   "cell_type": "code",
   "execution_count": null,
   "metadata": {},
   "outputs": [],
   "source": [
    "from typing import List\n",
    "\n",
    "def first_duplicate(nums: List[int]) -> int:\n",
    "    # TODO\n",
    "    pass"
   ]
  },
  {
   "cell_type": "markdown",
   "metadata": {},
   "source": [
    "## Question Two: Valid Bracket Sequence\n",
    "**Description**  \n",
    "Given a string containing only the characters `'('`, `')'`, `'{'`, `'}'`, `'['`, and `']'`, determine if the input string is a **valid bracket sequence**.  \n",
    "A string is valid if:\n",
    "- Open brackets are closed by the same type of brackets, and\n",
    "- Open brackets are closed in the correct order.\n",
    "\n",
    "**Examples**\n",
    "```python\n",
    "Input: s = \"([]{})\"\n",
    "Output: True\n",
    "```\n",
    "```python\n",
    "Input: s = \"([)]\"\n",
    "Output: False\n",
    "```\n",
    "```python\n",
    "Input: s = \"()[]{}\"\n",
    "Output: True\n",
    "```\n",
    "```python\n",
    "Input: s = \"[{]}\"\n",
    "Output: False\n",
    "```\n",
    "\n",
    "**Question 2 Starter Code**"
   ]
  },
  {
   "cell_type": "code",
   "execution_count": 28,
   "metadata": {},
   "outputs": [],
   "source": [
    "#The idea to solve the problem is to get a worse case an O(n) time complexity and a O(n) space complexity, \n",
    "#because for sure in order to give a full response I need to traverse the full list, because the last caracter can close a bracket previously opened.\n",
    "#I will make at most just one for loop to traverse the list.\n",
    "#Of course if I find a close character first coming without any open character, I will return false.\n",
    "#Thats why I will focus on open characters first.\n",
    "#With pop up I will remove all the open characters that I have seen so far.\n",
    "\n",
    "def is_valid_brackets(s: str) -> bool:\n",
    "    #In here I will define an empty stack to track the opening brackets as a buffer\n",
    "    stack = []\n",
    "    # Now, I will define a dictionary that maps closing brackets to opening brackets, only with the ones we will accept\n",
    "    # just to remember a dictionary is a pair of keys and values in the format {key: value}, so in my case all values will be opening brackets\n",
    "    #               key:value\n",
    "\n",
    "    bracket_dict = {')': '(',\n",
    "                    '}': '{', \n",
    "                    ']': '['\n",
    "                    }\n",
    "\n",
    "    # I will loop through each character in the input string\n",
    "    for char in s:\n",
    "\n",
    "        #In here I will check if the character is an opening or closing bracket\n",
    "\n",
    "        #For opening brackets I will append it to the stack\n",
    "        if char in bracket_dict.values():  # opening brackets check\n",
    "            stack.append(char)\n",
    "\n",
    "        #For closing brackets I will compare it with the top of the stack\n",
    "        elif char in bracket_dict:  # closing brackets\n",
    "            if not stack or stack[-1] != bracket_dict[char]: #is the stack empty? or is the top of the stack not equal to the corresponding closing bracket. Therefore return false\n",
    "                return False\n",
    "            stack.pop()    #if not return false, then I will pop the top of the stack\n",
    "        else:\n",
    "            # If there are any invalid characters (not expected in this problem)\n",
    "            return False\n",
    "    return not stack  # stack should be empty if all brackets matched"
   ]
  },
  {
   "cell_type": "code",
   "execution_count": 29,
   "metadata": {},
   "outputs": [
    {
     "name": "stdout",
     "output_type": "stream",
     "text": [
      "True\n",
      "False\n",
      "True\n",
      "False\n"
     ]
    }
   ],
   "source": [
    "#Now we will test, just focus what is inside the \"\" \n",
    "\n",
    "print(is_valid_brackets(\"([]{})\"))    # True\n",
    "print(is_valid_brackets(\"([)]\"))      # False\n",
    "print(is_valid_brackets(\"()[]{}\"))    # True\n",
    "print(is_valid_brackets(\"[{]}\"))      # False"
   ]
  },
  {
   "cell_type": "markdown",
   "metadata": {},
   "source": [
    "## Question Three: Move All Zeros to End\n",
    "**Description**  \n",
    "Given a list of integers, move all zeros to the end while maintaining the relative order of the non-zero elements. \n",
    "\n",
    "**Examples**\n",
    "```python\n",
    "Input: nums = [0, 1, 0, 3, 12]\n",
    "Output: [1, 3, 12, 0, 0]\n",
    "```\n",
    "```python\n",
    "Input: nums = [4, 0, 5, 0, 0, 6]\n",
    "Output: [4, 5, 6, 0, 0, 0]\n",
    "```\n"
   ]
  },
  {
   "cell_type": "code",
   "execution_count": null,
   "metadata": {},
   "outputs": [],
   "source": [
    "from typing import List\n",
    "\n",
    "def move_zeros_to_end(nums: List[int]) -> List[int]:\n",
    "    # TODO\n",
    "    pass"
   ]
  },
  {
   "cell_type": "markdown",
   "metadata": {},
   "source": [
    "\n",
    "## Part 2:\n",
    "\n",
    "-   Paraphrase the problem in your own words\n"
   ]
  },
  {
   "cell_type": "code",
   "execution_count": 30,
   "metadata": {},
   "outputs": [],
   "source": [
    "# Your answer here\n",
    "\n",
    "#You need to write a function that can determine if a string of characters has a right bracket sequence.\n",
    "#It means:\n",
    "#It in the string you perceive a closing bracket without having a previous opening one, you need discard (marked as false)\n",
    "#Then for all sequences of opening brackets, you need to monitor that those will have in any point their corresponding closing \n",
    "#bracket and only if at the end you completed all those open close brackets, you will mark it as true"
   ]
  },
  {
   "cell_type": "markdown",
   "metadata": {},
   "source": [
    "- In this .ipynb file, there are examples that illustrate how the code should work (the examples provided above). Create 2 new examples for the question you have been assigned, that demonstrate you understand the problem. For question 1 and 2, you don't need to create the tree demonstration, just the input and output.\n"
   ]
  },
  {
   "cell_type": "code",
   "execution_count": 31,
   "metadata": {},
   "outputs": [
    {
     "name": "stdout",
     "output_type": "stream",
     "text": [
      "True\n",
      "False\n"
     ]
    }
   ],
   "source": [
    "# Your answer here\n",
    "\n",
    "print(is_valid_brackets(\"([{({}[])}])\"))    # True, multiple open and closing brackets\n",
    "print(is_valid_brackets(\"{[}]\"))      # False, one closing not following their corresponding opening"
   ]
  },
  {
   "cell_type": "markdown",
   "metadata": {},
   "source": [
    "\n",
    "-   Code the solution to your assigned problem in Python (code chunk). Note: each problem can be solved more simply if you use an abstract data type that is suitable for that problem. Using that try to find the best time and space complexity solution!\n"
   ]
  },
  {
   "cell_type": "code",
   "execution_count": 32,
   "metadata": {},
   "outputs": [],
   "source": [
    "# Your answer here\n",
    "\n",
    "def is_valid_brackets(s: str) -> bool:\n",
    "    #In here I will define an empty stack to track the opening brackets as a buffer\n",
    "    stack = []\n",
    "    # Now, I will define a dictionary that maps closing brackets to opening brackets, only with the ones we will accept\n",
    "    # just to remember a dictionary is a pair of keys and values in the format {key: value}, so in my case all values will be opening brackets\n",
    "    #               key:value\n",
    "\n",
    "    bracket_dict = {')': '(',\n",
    "                    '}': '{', \n",
    "                    ']': '['\n",
    "                    }\n",
    "\n",
    "    # I will loop through each character in the input string\n",
    "    for char in s:\n",
    "\n",
    "        #In here I will check if the character is an opening or closing bracket\n",
    "\n",
    "        #For opening brackets I will append it to the stack\n",
    "        if char in bracket_dict.values():  # opening brackets check\n",
    "            stack.append(char)\n",
    "\n",
    "        #For closing brackets I will compare it with the top of the stack\n",
    "        elif char in bracket_dict:  # closing brackets\n",
    "            if not stack or stack[-1] != bracket_dict[char]: #is the stack empty? or is the top of the stack not equal to the corresponding closing bracket. Therefore return false\n",
    "                return False\n",
    "            stack.pop()    #if not return false, then I will pop the top of the stack\n",
    "        else:\n",
    "            # If there are any invalid characters (not expected in this problem)\n",
    "            return False\n",
    "    return not stack  # stack should be empty if all brackets matched"
   ]
  },
  {
   "cell_type": "markdown",
   "metadata": {},
   "source": [
    "\n",
    "-   Explain why your solution works\n"
   ]
  },
  {
   "cell_type": "code",
   "execution_count": 33,
   "metadata": {},
   "outputs": [],
   "source": [
    "# Your answer here\n",
    "\n",
    "\n",
    "#The idea to solve the problem was to get the worse case being an O(n) time complexity and a O(n) space complexity, \n",
    "#because for sure in order to give a full response I need to traverse the full list, because the last last character can close a bracket previously opened.\n",
    "#I made at most just one for loop to traverse the list.\n",
    "#Of course if I my solution find a close character first coming without any open character, It returns false.\n",
    "#Thats why my solution focus on open characters first.\n",
    "#With pop up I removed all the open characters that I have seen so far and closed it correctly."
   ]
  },
  {
   "cell_type": "markdown",
   "metadata": {},
   "source": [
    "\n",
    "-   Explain the problem’s time and space complexity\n"
   ]
  },
  {
   "cell_type": "code",
   "execution_count": 34,
   "metadata": {},
   "outputs": [],
   "source": [
    "# Your answer here\n",
    "\n",
    "#Time Complexity: O(n) because we only traverse the list once\n",
    "\n",
    "#Space Complexity: O(n) because in the worst case if all coming characters are opening brackets, the stack will be growth until n size"
   ]
  },
  {
   "cell_type": "markdown",
   "metadata": {},
   "source": [
    "\n",
    "-   Explain the thinking to an alternative solution (no coding required, but a classmate reading this should be able to code it up based off your text)\n"
   ]
  },
  {
   "cell_type": "code",
   "execution_count": 35,
   "metadata": {},
   "outputs": [],
   "source": [
    "# Your answer here\n",
    "\n",
    "#I think the easiest, beginner way to this is 2 \"for loops\"\n",
    "#One for the opening brackets\n",
    "#Second one for the closing brackets, so each time that I see an opening bracket I will check if there is a closing bracket after it\n",
    "#It is finds the correspoing closing bracket not match with the opening one, it will return false \n",
    "#Although I will have a O(n2) time complexity and a O(n2) space complexity"
   ]
  },
  {
   "cell_type": "markdown",
   "metadata": {},
   "source": [
    "## Evaluation Criteria\n",
    "\n",
    "-   Problem is accurately stated\n",
    "\n",
    "-   Two examples are correct and easily understandable\n",
    "\n",
    "-   Correctness, time, and space complexity of the coding solution\n",
    "\n",
    "-   Clarity in explaining why the solution works, its time and space complexity\n",
    "\n",
    "-   Clarity in the proposal to the alternative solution"
   ]
  },
  {
   "cell_type": "markdown",
   "metadata": {},
   "source": [
    "## Submission Information\n",
    "\n",
    "🚨 **Please review our [Assignment Submission Guide](https://github.com/UofT-DSI/onboarding/blob/main/onboarding_documents/submissions.md)** 🚨 for detailed instructions on how to format, branch, and submit your work. Following these guidelines is crucial for your submissions to be evaluated correctly.\n",
    "\n",
    "### Submission Parameters:\n",
    "* Submission Due Date: `HH:MM AM/PM - DD/MM/YYYY`\n",
    "* The branch name for your repo should be: `assignment-1`\n",
    "* What to submit for this assignment:\n",
    "    * This Jupyter Notebook (assignment_1.ipynb) should be populated and should be the only change in your pull request.\n",
    "* What the pull request link should look like for this assignment: `https://github.com/<your_github_username>/algorithms_and_data_structures/pull/<pr_id>`\n",
    "    * Open a private window in your browser. Copy and paste the link to your pull request into the address bar. Make sure you can see your pull request properly. This helps the technical facilitator and learning support staff review your submission easily.\n",
    "\n",
    "Checklist:\n",
    "- [ ] Create a branch called `assignment-1`.\n",
    "- [ ] Ensure that the repository is public.\n",
    "- [ ] Review [the PR description guidelines](https://github.com/UofT-DSI/onboarding/blob/main/onboarding_documents/submissions.md#guidelines-for-pull-request-descriptions) and adhere to them.\n",
    "- [ ] Verify that the link is accessible in a private browser window.\n",
    "\n",
    "If you encounter any difficulties or have questions, please don't hesitate to reach out to our team via our Slack at `#cohort-3-help`. Our Technical Facilitators and Learning Support staff are here to help you navigate any challenges."
   ]
  }
 ],
 "metadata": {
  "kernelspec": {
   "display_name": "dsi_participant",
   "language": "python",
   "name": "python3"
  },
  "language_info": {
   "codemirror_mode": {
    "name": "ipython",
    "version": 3
   },
   "file_extension": ".py",
   "mimetype": "text/x-python",
   "name": "python",
   "nbconvert_exporter": "python",
   "pygments_lexer": "ipython3",
   "version": "3.9.15"
  }
 },
 "nbformat": 4,
 "nbformat_minor": 4
}
